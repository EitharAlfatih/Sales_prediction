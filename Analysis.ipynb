{
 "cells": [
  {
   "cell_type": "code",
   "execution_count": 77,
   "metadata": {},
   "outputs": [],
   "source": [
    "import pandas as pd\n",
    "import os\n",
    "import numpy as np\n",
    "import altair as alt"
   ]
  },
  {
   "cell_type": "markdown",
   "metadata": {},
   "source": [
    "### Effective way of reading large datasets."
   ]
  },
  {
   "cell_type": "markdown",
   "metadata": {},
   "source": [
    "[Source](https://www.kaggle.com/kunalkotian/easily-load-train-csv-w-o-crash-save-feather-file)"
   ]
  },
  {
   "cell_type": "code",
   "execution_count": 2,
   "metadata": {},
   "outputs": [],
   "source": [
    "!head -2 Data/train.csv > small_train.csv"
   ]
  },
  {
   "cell_type": "code",
   "execution_count": 3,
   "metadata": {},
   "outputs": [
    {
     "name": "stdout",
     "output_type": "stream",
     "text": [
      "   id        date  store_nbr  item_nbr  unit_sales  onpromotion\n",
      "0   0  2013-01-01         25    103665         7.0          NaN\n"
     ]
    }
   ],
   "source": [
    "small_train = pd.read_csv('small_train.csv')\n",
    "print(small_train)"
   ]
  },
  {
   "cell_type": "code",
   "execution_count": null,
   "metadata": {},
   "outputs": [],
   "source": [
    "# types_dict = small_train.dtypes.to_dict()\n"
   ]
  },
  {
   "cell_type": "code",
   "execution_count": 4,
   "metadata": {},
   "outputs": [],
   "source": [
    "types_dict = {'id': 'uint32',\n",
    "             'item_nbr': 'uint32',\n",
    "             'store_nbr': 'uint8',\n",
    "             'unit_sales': 'float32'}"
   ]
  },
  {
   "cell_type": "code",
   "execution_count": 5,
   "metadata": {},
   "outputs": [
    {
     "name": "stderr",
     "output_type": "stream",
     "text": [
      "/Users/eitharelbasheer/opt/anaconda3/lib/python3.7/site-packages/IPython/core/interactiveshell.py:3058: DtypeWarning: Columns (5) have mixed types. Specify dtype option on import or set low_memory=False.\n",
      "  interactivity=interactivity, compiler=compiler, result=result)\n"
     ]
    }
   ],
   "source": [
    "train = pd.read_csv('Data/train.csv', low_memory=True, dtype=types_dict)"
   ]
  },
  {
   "cell_type": "code",
   "execution_count": 6,
   "metadata": {},
   "outputs": [],
   "source": [
    "os.makedirs('Data/tmp', exist_ok=True)  # Make a temp dir for storing the feather file\n",
    "# Save feather file, requires pandas 0.20.0 at least:\n",
    "train.to_feather('Data/tmp/train_raw')"
   ]
  },
  {
   "cell_type": "code",
   "execution_count": 9,
   "metadata": {},
   "outputs": [],
   "source": [
    "test = pd.read_csv('Data/test.csv', low_memory=True, dtype=types_dict)"
   ]
  },
  {
   "cell_type": "code",
   "execution_count": 10,
   "metadata": {},
   "outputs": [],
   "source": [
    "test.to_feather('Data/tmp/test_raw')"
   ]
  },
  {
   "cell_type": "code",
   "execution_count": 41,
   "metadata": {},
   "outputs": [],
   "source": [
    "train = pd.read_feather(\"Data/tmp/train_raw\")"
   ]
  },
  {
   "cell_type": "code",
   "execution_count": 42,
   "metadata": {},
   "outputs": [],
   "source": [
    "test = pd.read_feather(\"Data/tmp/test_raw\")"
   ]
  },
  {
   "cell_type": "markdown",
   "metadata": {},
   "source": [
    "## EDA"
   ]
  },
  {
   "cell_type": "markdown",
   "metadata": {},
   "source": [
    "> Checking the memory consumption "
   ]
  },
  {
   "cell_type": "code",
   "execution_count": 43,
   "metadata": {},
   "outputs": [
    {
     "data": {
      "text/plain": [
       "2534.3312063217163"
      ]
     },
     "execution_count": 43,
     "metadata": {},
     "output_type": "execute_result"
    }
   ],
   "source": [
    "(train.memory_usage(index=True).sum())/1024**2"
   ]
  },
  {
   "cell_type": "code",
   "execution_count": 44,
   "metadata": {},
   "outputs": [
    {
     "name": "stdout",
     "output_type": "stream",
     "text": [
      "<class 'pandas.core.frame.DataFrame'>\n",
      "RangeIndex: 91635819 entries, 0 to 91635818\n",
      "Data columns (total 6 columns):\n",
      "id             uint32\n",
      "date           object\n",
      "store_nbr      uint8\n",
      "item_nbr       uint32\n",
      "unit_sales     float32\n",
      "onpromotion    object\n",
      "dtypes: float32(1), object(2), uint32(2), uint8(1)\n",
      "memory usage: 2.5+ GB\n"
     ]
    }
   ],
   "source": [
    "train.info()"
   ]
  },
  {
   "cell_type": "code",
   "execution_count": 45,
   "metadata": {},
   "outputs": [
    {
     "data": {
      "text/plain": [
       "57.85797119140625"
      ]
     },
     "execution_count": 45,
     "metadata": {},
     "output_type": "execute_result"
    }
   ],
   "source": [
    "(test.memory_usage(index=True).sum())/1024**2"
   ]
  },
  {
   "cell_type": "code",
   "execution_count": 63,
   "metadata": {},
   "outputs": [],
   "source": [
    "EDA_df = train.copy()"
   ]
  },
  {
   "cell_type": "markdown",
   "metadata": {},
   "source": [
    "* In pandas Date datatype is not vectorized, I will split it to the data column into three columns."
   ]
  },
  {
   "cell_type": "code",
   "execution_count": 64,
   "metadata": {},
   "outputs": [],
   "source": [
    "EDA_df['date'] = pd.to_datetime(train['date'],format=\"%Y-%m-%d\")"
   ]
  },
  {
   "cell_type": "code",
   "execution_count": 65,
   "metadata": {},
   "outputs": [
    {
     "name": "stdout",
     "output_type": "stream",
     "text": [
      "<class 'pandas.core.frame.DataFrame'>\n",
      "RangeIndex: 91635819 entries, 0 to 91635818\n",
      "Data columns (total 6 columns):\n",
      "id             uint32\n",
      "date           datetime64[ns]\n",
      "store_nbr      uint8\n",
      "item_nbr       uint32\n",
      "unit_sales     float32\n",
      "onpromotion    object\n",
      "dtypes: datetime64[ns](1), float32(1), object(1), uint32(2), uint8(1)\n",
      "memory usage: 2.5+ GB\n"
     ]
    }
   ],
   "source": [
    "EDA_df.info()"
   ]
  },
  {
   "cell_type": "code",
   "execution_count": 66,
   "metadata": {},
   "outputs": [],
   "source": [
    "EDA_df['Year'] = pd.DatetimeIndex(EDA_df['date']).year\n",
    "EDA_df['Month'] = pd.DatetimeIndex(EDA_df['date']).month\n",
    "EDA_df['Day'] =pd.DatetimeIndex(EDA_df['date']).day.astype(np.uint8)"
   ]
  },
  {
   "cell_type": "code",
   "execution_count": 67,
   "metadata": {},
   "outputs": [
    {
     "data": {
      "text/html": [
       "<div>\n",
       "<style scoped>\n",
       "    .dataframe tbody tr th:only-of-type {\n",
       "        vertical-align: middle;\n",
       "    }\n",
       "\n",
       "    .dataframe tbody tr th {\n",
       "        vertical-align: top;\n",
       "    }\n",
       "\n",
       "    .dataframe thead th {\n",
       "        text-align: right;\n",
       "    }\n",
       "</style>\n",
       "<table border=\"1\" class=\"dataframe\">\n",
       "  <thead>\n",
       "    <tr style=\"text-align: right;\">\n",
       "      <th></th>\n",
       "      <th>id</th>\n",
       "      <th>date</th>\n",
       "      <th>store_nbr</th>\n",
       "      <th>item_nbr</th>\n",
       "      <th>unit_sales</th>\n",
       "      <th>onpromotion</th>\n",
       "      <th>Year</th>\n",
       "      <th>Month</th>\n",
       "      <th>Day</th>\n",
       "    </tr>\n",
       "  </thead>\n",
       "  <tbody>\n",
       "    <tr>\n",
       "      <td>0</td>\n",
       "      <td>0</td>\n",
       "      <td>2013-01-01</td>\n",
       "      <td>25</td>\n",
       "      <td>103665</td>\n",
       "      <td>7.0</td>\n",
       "      <td>None</td>\n",
       "      <td>2013</td>\n",
       "      <td>1</td>\n",
       "      <td>1</td>\n",
       "    </tr>\n",
       "    <tr>\n",
       "      <td>1</td>\n",
       "      <td>1</td>\n",
       "      <td>2013-01-01</td>\n",
       "      <td>25</td>\n",
       "      <td>105574</td>\n",
       "      <td>1.0</td>\n",
       "      <td>None</td>\n",
       "      <td>2013</td>\n",
       "      <td>1</td>\n",
       "      <td>1</td>\n",
       "    </tr>\n",
       "    <tr>\n",
       "      <td>2</td>\n",
       "      <td>2</td>\n",
       "      <td>2013-01-01</td>\n",
       "      <td>25</td>\n",
       "      <td>105575</td>\n",
       "      <td>2.0</td>\n",
       "      <td>None</td>\n",
       "      <td>2013</td>\n",
       "      <td>1</td>\n",
       "      <td>1</td>\n",
       "    </tr>\n",
       "    <tr>\n",
       "      <td>3</td>\n",
       "      <td>3</td>\n",
       "      <td>2013-01-01</td>\n",
       "      <td>25</td>\n",
       "      <td>108079</td>\n",
       "      <td>1.0</td>\n",
       "      <td>None</td>\n",
       "      <td>2013</td>\n",
       "      <td>1</td>\n",
       "      <td>1</td>\n",
       "    </tr>\n",
       "    <tr>\n",
       "      <td>4</td>\n",
       "      <td>4</td>\n",
       "      <td>2013-01-01</td>\n",
       "      <td>25</td>\n",
       "      <td>108701</td>\n",
       "      <td>1.0</td>\n",
       "      <td>None</td>\n",
       "      <td>2013</td>\n",
       "      <td>1</td>\n",
       "      <td>1</td>\n",
       "    </tr>\n",
       "    <tr>\n",
       "      <td>...</td>\n",
       "      <td>...</td>\n",
       "      <td>...</td>\n",
       "      <td>...</td>\n",
       "      <td>...</td>\n",
       "      <td>...</td>\n",
       "      <td>...</td>\n",
       "      <td>...</td>\n",
       "      <td>...</td>\n",
       "      <td>...</td>\n",
       "    </tr>\n",
       "    <tr>\n",
       "      <td>91635814</td>\n",
       "      <td>91635814</td>\n",
       "      <td>2016-09-21</td>\n",
       "      <td>30</td>\n",
       "      <td>1246784</td>\n",
       "      <td>4.0</td>\n",
       "      <td>False</td>\n",
       "      <td>2016</td>\n",
       "      <td>9</td>\n",
       "      <td>21</td>\n",
       "    </tr>\n",
       "    <tr>\n",
       "      <td>91635815</td>\n",
       "      <td>91635815</td>\n",
       "      <td>2016-09-21</td>\n",
       "      <td>30</td>\n",
       "      <td>1247036</td>\n",
       "      <td>2.0</td>\n",
       "      <td>False</td>\n",
       "      <td>2016</td>\n",
       "      <td>9</td>\n",
       "      <td>21</td>\n",
       "    </tr>\n",
       "    <tr>\n",
       "      <td>91635816</td>\n",
       "      <td>91635816</td>\n",
       "      <td>2016-09-21</td>\n",
       "      <td>30</td>\n",
       "      <td>1254013</td>\n",
       "      <td>1.0</td>\n",
       "      <td>False</td>\n",
       "      <td>2016</td>\n",
       "      <td>9</td>\n",
       "      <td>21</td>\n",
       "    </tr>\n",
       "    <tr>\n",
       "      <td>91635817</td>\n",
       "      <td>91635817</td>\n",
       "      <td>2016-09-21</td>\n",
       "      <td>30</td>\n",
       "      <td>1260238</td>\n",
       "      <td>4.0</td>\n",
       "      <td>False</td>\n",
       "      <td>2016</td>\n",
       "      <td>9</td>\n",
       "      <td>21</td>\n",
       "    </tr>\n",
       "    <tr>\n",
       "      <td>91635818</td>\n",
       "      <td>91635818</td>\n",
       "      <td>2016-09-21</td>\n",
       "      <td>30</td>\n",
       "      <td>1303141</td>\n",
       "      <td>1.0</td>\n",
       "      <td>None</td>\n",
       "      <td>2016</td>\n",
       "      <td>9</td>\n",
       "      <td>21</td>\n",
       "    </tr>\n",
       "  </tbody>\n",
       "</table>\n",
       "<p>91635819 rows × 9 columns</p>\n",
       "</div>"
      ],
      "text/plain": [
       "                id       date  store_nbr  item_nbr  unit_sales onpromotion  \\\n",
       "0                0 2013-01-01         25    103665         7.0        None   \n",
       "1                1 2013-01-01         25    105574         1.0        None   \n",
       "2                2 2013-01-01         25    105575         2.0        None   \n",
       "3                3 2013-01-01         25    108079         1.0        None   \n",
       "4                4 2013-01-01         25    108701         1.0        None   \n",
       "...            ...        ...        ...       ...         ...         ...   \n",
       "91635814  91635814 2016-09-21         30   1246784         4.0       False   \n",
       "91635815  91635815 2016-09-21         30   1247036         2.0       False   \n",
       "91635816  91635816 2016-09-21         30   1254013         1.0       False   \n",
       "91635817  91635817 2016-09-21         30   1260238         4.0       False   \n",
       "91635818  91635818 2016-09-21         30   1303141         1.0        None   \n",
       "\n",
       "          Year  Month  Day  \n",
       "0         2013      1    1  \n",
       "1         2013      1    1  \n",
       "2         2013      1    1  \n",
       "3         2013      1    1  \n",
       "4         2013      1    1  \n",
       "...        ...    ...  ...  \n",
       "91635814  2016      9   21  \n",
       "91635815  2016      9   21  \n",
       "91635816  2016      9   21  \n",
       "91635817  2016      9   21  \n",
       "91635818  2016      9   21  \n",
       "\n",
       "[91635819 rows x 9 columns]"
      ]
     },
     "execution_count": 67,
     "metadata": {},
     "output_type": "execute_result"
    }
   ],
   "source": [
    "EDA_df"
   ]
  },
  {
   "cell_type": "code",
   "execution_count": 68,
   "metadata": {},
   "outputs": [],
   "source": [
    "del(EDA_df['date'])"
   ]
  },
  {
   "cell_type": "code",
   "execution_count": 69,
   "metadata": {},
   "outputs": [],
   "source": [
    "EDA_df['Day']=EDA_df['Day'].astype(np.uint8)\n",
    "EDA_df['Month']=EDA_df['Month'].astype(np.uint8)\n",
    "EDA_df['Year']=EDA_df['Year'].astype(np.uint16)"
   ]
  },
  {
   "cell_type": "code",
   "execution_count": 70,
   "metadata": {},
   "outputs": [
    {
     "data": {
      "text/plain": [
       "2184.768298149109"
      ]
     },
     "execution_count": 70,
     "metadata": {},
     "output_type": "execute_result"
    }
   ],
   "source": [
    "(EDA_df.memory_usage(index=True).sum())/1024**2"
   ]
  },
  {
   "cell_type": "code",
   "execution_count": 71,
   "metadata": {},
   "outputs": [
    {
     "name": "stdout",
     "output_type": "stream",
     "text": [
      "<class 'pandas.core.frame.DataFrame'>\n",
      "RangeIndex: 91635819 entries, 0 to 91635818\n",
      "Data columns (total 8 columns):\n",
      "id             uint32\n",
      "store_nbr      uint8\n",
      "item_nbr       uint32\n",
      "unit_sales     float32\n",
      "onpromotion    object\n",
      "Year           uint16\n",
      "Month          uint8\n",
      "Day            uint8\n",
      "dtypes: float32(1), object(1), uint16(1), uint32(2), uint8(3)\n",
      "memory usage: 2.1+ GB\n"
     ]
    }
   ],
   "source": [
    "EDA_df.info()"
   ]
  },
  {
   "cell_type": "code",
   "execution_count": 72,
   "metadata": {},
   "outputs": [],
   "source": [
    "# No need for column id for the analysis\n",
    "\n",
    "EDA_df = EDA_df.drop(columns = \"id\")"
   ]
  },
  {
   "cell_type": "markdown",
   "metadata": {},
   "source": [
    "* A clear reduction in the memory space."
   ]
  },
  {
   "cell_type": "code",
   "execution_count": 74,
   "metadata": {},
   "outputs": [
    {
     "name": "stdout",
     "output_type": "stream",
     "text": [
      "<class 'pandas.core.frame.DataFrame'>\n",
      "RangeIndex: 91635819 entries, 0 to 91635818\n",
      "Data columns (total 7 columns):\n",
      "store_nbr      uint8\n",
      "item_nbr       uint32\n",
      "unit_sales     float32\n",
      "onpromotion    object\n",
      "Year           uint16\n",
      "Month          uint8\n",
      "Day            uint8\n",
      "dtypes: float32(1), object(1), uint16(1), uint32(1), uint8(3)\n",
      "memory usage: 1.8+ GB\n"
     ]
    }
   ],
   "source": [
    "EDA_df.info()"
   ]
  },
  {
   "cell_type": "code",
   "execution_count": 78,
   "metadata": {},
   "outputs": [
    {
     "data": {
      "text/html": [
       "<div>\n",
       "<style scoped>\n",
       "    .dataframe tbody tr th:only-of-type {\n",
       "        vertical-align: middle;\n",
       "    }\n",
       "\n",
       "    .dataframe tbody tr th {\n",
       "        vertical-align: top;\n",
       "    }\n",
       "\n",
       "    .dataframe thead th {\n",
       "        text-align: right;\n",
       "    }\n",
       "</style>\n",
       "<table border=\"1\" class=\"dataframe\">\n",
       "  <thead>\n",
       "    <tr style=\"text-align: right;\">\n",
       "      <th></th>\n",
       "      <th>store_nbr</th>\n",
       "      <th>item_nbr</th>\n",
       "      <th>unit_sales</th>\n",
       "      <th>Year</th>\n",
       "      <th>Month</th>\n",
       "      <th>Day</th>\n",
       "    </tr>\n",
       "  </thead>\n",
       "  <tbody>\n",
       "    <tr>\n",
       "      <td>count</td>\n",
       "      <td>9.163582e+07</td>\n",
       "      <td>9.163582e+07</td>\n",
       "      <td>9.163582e+07</td>\n",
       "      <td>9.163582e+07</td>\n",
       "      <td>9.163582e+07</td>\n",
       "      <td>9.163582e+07</td>\n",
       "    </tr>\n",
       "    <tr>\n",
       "      <td>mean</td>\n",
       "      <td>2.730062e+01</td>\n",
       "      <td>9.069823e+05</td>\n",
       "      <td>6.078307e+00</td>\n",
       "      <td>2.014675e+03</td>\n",
       "      <td>6.368498e+00</td>\n",
       "      <td>1.561380e+01</td>\n",
       "    </tr>\n",
       "    <tr>\n",
       "      <td>std</td>\n",
       "      <td>1.636572e+01</td>\n",
       "      <td>4.827444e+05</td>\n",
       "      <td>2.102362e+01</td>\n",
       "      <td>1.060644e+00</td>\n",
       "      <td>3.338468e+00</td>\n",
       "      <td>8.798389e+00</td>\n",
       "    </tr>\n",
       "    <tr>\n",
       "      <td>min</td>\n",
       "      <td>1.000000e+00</td>\n",
       "      <td>9.699500e+04</td>\n",
       "      <td>-1.537200e+04</td>\n",
       "      <td>2.013000e+03</td>\n",
       "      <td>1.000000e+00</td>\n",
       "      <td>1.000000e+00</td>\n",
       "    </tr>\n",
       "    <tr>\n",
       "      <td>25%</td>\n",
       "      <td>1.100000e+01</td>\n",
       "      <td>5.023310e+05</td>\n",
       "      <td>2.000000e+00</td>\n",
       "      <td>2.014000e+03</td>\n",
       "      <td>4.000000e+00</td>\n",
       "      <td>8.000000e+00</td>\n",
       "    </tr>\n",
       "    <tr>\n",
       "      <td>50%</td>\n",
       "      <td>2.800000e+01</td>\n",
       "      <td>8.973480e+05</td>\n",
       "      <td>4.000000e+00</td>\n",
       "      <td>2.015000e+03</td>\n",
       "      <td>6.000000e+00</td>\n",
       "      <td>1.600000e+01</td>\n",
       "    </tr>\n",
       "    <tr>\n",
       "      <td>75%</td>\n",
       "      <td>4.300000e+01</td>\n",
       "      <td>1.239855e+06</td>\n",
       "      <td>9.000000e+00</td>\n",
       "      <td>2.016000e+03</td>\n",
       "      <td>9.000000e+00</td>\n",
       "      <td>2.300000e+01</td>\n",
       "    </tr>\n",
       "    <tr>\n",
       "      <td>max</td>\n",
       "      <td>5.400000e+01</td>\n",
       "      <td>2.037487e+06</td>\n",
       "      <td>4.414200e+04</td>\n",
       "      <td>2.016000e+03</td>\n",
       "      <td>1.200000e+01</td>\n",
       "      <td>3.100000e+01</td>\n",
       "    </tr>\n",
       "  </tbody>\n",
       "</table>\n",
       "</div>"
      ],
      "text/plain": [
       "          store_nbr      item_nbr    unit_sales          Year         Month  \\\n",
       "count  9.163582e+07  9.163582e+07  9.163582e+07  9.163582e+07  9.163582e+07   \n",
       "mean   2.730062e+01  9.069823e+05  6.078307e+00  2.014675e+03  6.368498e+00   \n",
       "std    1.636572e+01  4.827444e+05  2.102362e+01  1.060644e+00  3.338468e+00   \n",
       "min    1.000000e+00  9.699500e+04 -1.537200e+04  2.013000e+03  1.000000e+00   \n",
       "25%    1.100000e+01  5.023310e+05  2.000000e+00  2.014000e+03  4.000000e+00   \n",
       "50%    2.800000e+01  8.973480e+05  4.000000e+00  2.015000e+03  6.000000e+00   \n",
       "75%    4.300000e+01  1.239855e+06  9.000000e+00  2.016000e+03  9.000000e+00   \n",
       "max    5.400000e+01  2.037487e+06  4.414200e+04  2.016000e+03  1.200000e+01   \n",
       "\n",
       "                Day  \n",
       "count  9.163582e+07  \n",
       "mean   1.561380e+01  \n",
       "std    8.798389e+00  \n",
       "min    1.000000e+00  \n",
       "25%    8.000000e+00  \n",
       "50%    1.600000e+01  \n",
       "75%    2.300000e+01  \n",
       "max    3.100000e+01  "
      ]
     },
     "execution_count": 78,
     "metadata": {},
     "output_type": "execute_result"
    }
   ],
   "source": [
    "EDA_df.describe()"
   ]
  },
  {
   "cell_type": "markdown",
   "metadata": {},
   "source": [
    "* 54 stores\n",
    "* Some items are not included in the training dataset.\n",
    "* No observations with Unit sales for 0."
   ]
  },
  {
   "cell_type": "code",
   "execution_count": null,
   "metadata": {},
   "outputs": [],
   "source": [
    "EDA_df"
   ]
  }
 ],
 "metadata": {
  "kernelspec": {
   "display_name": "Python 3",
   "language": "python",
   "name": "python3"
  },
  "language_info": {
   "codemirror_mode": {
    "name": "ipython",
    "version": 3
   },
   "file_extension": ".py",
   "mimetype": "text/x-python",
   "name": "python",
   "nbconvert_exporter": "python",
   "pygments_lexer": "ipython3",
   "version": "3.7.4"
  }
 },
 "nbformat": 4,
 "nbformat_minor": 4
}
